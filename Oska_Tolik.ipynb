{
 "cells": [
  {
   "cell_type": "code",
   "execution_count": 2,
   "id": "31f3b8fd",
   "metadata": {},
   "outputs": [
    {
     "name": "stdout",
     "output_type": "stream",
     "text": [
      "10010000100010111111111010010101000111011011011100\n"
     ]
    }
   ],
   "source": [
    "f = open('new.txt','r').read()\n",
    "print(f)"
   ]
  },
  {
   "cell_type": "code",
   "execution_count": 12,
   "id": "4fecf939",
   "metadata": {},
   "outputs": [],
   "source": [
    "def hamming2(string):\n",
    "    lists = []\n",
    "    res = \"\"\n",
    "    counter = 0\n",
    "    for x in string:\n",
    "        if counter == 4:\n",
    "            counter = 0\n",
    "            lists.append(res)\n",
    "            res = \"\"\n",
    "        res += x\n",
    "        counter += 1\n",
    "    if len(res) != 0:\n",
    "        for x in range(len(res), 4):\n",
    "            res += '0'\n",
    "        lists.append(res)\n",
    "    print(\"Lists: \")\n",
    "    coutner = 0\n",
    "    for x in lists:\n",
    "        print(\"b\" + str(coutner) + \": \" + x)\n",
    "        coutner += 1\n",
    "    sssssss = \"\"\n",
    "    for x in range(len(lists)):\n",
    "        a = \"___\"\n",
    "        a += lists[x][0]\n",
    "        a += \"_\"\n",
    "        a += lists[x][1]\n",
    "        a += lists[x][2]\n",
    "        a += lists[x][3]\n",
    "        temp = a\n",
    "        print(\"Expand the block to 8 bits: \" + temp)\n",
    "        a1 = str((int(a[3]) + int(a[5]) + int(a[7])) % 2)\n",
    "        print(\"p1: \" + a1)\n",
    "        a2 = str((int(a[3]) + int(a[6]) + int(a[7])) % 2)\n",
    "        print(\"p2: \" + a2)\n",
    "        a4 = str((int(a[5]) + int(a[6]) + int(a[7])) % 2)\n",
    "        print(\"p4: \" + a4)\n",
    "        a0 = 0\n",
    "        a = \"_\" + a1 + a2\n",
    "        a += temp[3]\n",
    "        a += a4\n",
    "        a += temp[5]\n",
    "        a += temp[6]\n",
    "        a += temp[7]\n",
    "        for x in a:\n",
    "            if x == '_':\n",
    "                continue\n",
    "            a0 += int(x)\n",
    "        a0 = str(a0 % 2)\n",
    "        print(\"p0: \" + a0)  \n",
    "        a = a0 + a1 + a2\n",
    "        a += temp[3]\n",
    "        a += a4\n",
    "        a += temp[5]\n",
    "        a += temp[6]\n",
    "        a += temp[7]\n",
    "        print(\"Encoded bitstring: \" + a)\n",
    "        sssssss += a\n",
    "        \n",
    "    f3 = open(\"one_sequence74.txt\", \"w\") \n",
    "    f3.write(sssssss) \n",
    "    f3.close()\n",
    "    \n",
    "    return sssssss"
   ]
  },
  {
   "cell_type": "code",
   "execution_count": 13,
   "id": "7238aad9",
   "metadata": {
    "scrolled": false
   },
   "outputs": [
    {
     "name": "stdout",
     "output_type": "stream",
     "text": [
      "Lists: \n",
      "b0: 1001\n",
      "b1: 0000\n",
      "b2: 1000\n",
      "b3: 1011\n",
      "b4: 1111\n",
      "b5: 1110\n",
      "b6: 1001\n",
      "b7: 0101\n",
      "b8: 0001\n",
      "b9: 1101\n",
      "b10: 1011\n",
      "b11: 0111\n",
      "b12: 0000\n",
      "Expand the block to 8 bits: ___1_001\n",
      "p1: 0\n",
      "p2: 0\n",
      "p4: 1\n",
      "p0: 1\n",
      "Encoded bitstring: 10011001\n",
      "Expand the block to 8 bits: ___0_000\n",
      "p1: 0\n",
      "p2: 0\n",
      "p4: 0\n",
      "p0: 0\n",
      "Encoded bitstring: 00000000\n",
      "Expand the block to 8 bits: ___1_000\n",
      "p1: 1\n",
      "p2: 1\n",
      "p4: 0\n",
      "p0: 1\n",
      "Encoded bitstring: 11110000\n",
      "Expand the block to 8 bits: ___1_011\n",
      "p1: 0\n",
      "p2: 1\n",
      "p4: 0\n",
      "p0: 0\n",
      "Encoded bitstring: 00110011\n",
      "Expand the block to 8 bits: ___1_111\n",
      "p1: 1\n",
      "p2: 1\n",
      "p4: 1\n",
      "p0: 1\n",
      "Encoded bitstring: 11111111\n",
      "Expand the block to 8 bits: ___1_110\n",
      "p1: 0\n",
      "p2: 0\n",
      "p4: 0\n",
      "p0: 1\n",
      "Encoded bitstring: 10010110\n",
      "Expand the block to 8 bits: ___1_001\n",
      "p1: 0\n",
      "p2: 0\n",
      "p4: 1\n",
      "p0: 1\n",
      "Encoded bitstring: 10011001\n",
      "Expand the block to 8 bits: ___0_101\n",
      "p1: 0\n",
      "p2: 1\n",
      "p4: 0\n",
      "p0: 1\n",
      "Encoded bitstring: 10100101\n",
      "Expand the block to 8 bits: ___0_001\n",
      "p1: 1\n",
      "p2: 1\n",
      "p4: 1\n",
      "p0: 0\n",
      "Encoded bitstring: 01101001\n",
      "Expand the block to 8 bits: ___1_101\n",
      "p1: 1\n",
      "p2: 0\n",
      "p4: 0\n",
      "p0: 0\n",
      "Encoded bitstring: 01010101\n",
      "Expand the block to 8 bits: ___1_011\n",
      "p1: 0\n",
      "p2: 1\n",
      "p4: 0\n",
      "p0: 0\n",
      "Encoded bitstring: 00110011\n",
      "Expand the block to 8 bits: ___0_111\n",
      "p1: 0\n",
      "p2: 0\n",
      "p4: 1\n",
      "p0: 0\n",
      "Encoded bitstring: 00001111\n",
      "Expand the block to 8 bits: ___0_000\n",
      "p1: 0\n",
      "p2: 0\n",
      "p4: 0\n",
      "p0: 0\n",
      "Encoded bitstring: 00000000\n"
     ]
    },
    {
     "data": {
      "text/plain": [
       "'10011001000000001111000000110011111111111001011010011001101001010110100101010101001100110000111100000000'"
      ]
     },
     "execution_count": 13,
     "metadata": {},
     "output_type": "execute_result"
    }
   ],
   "source": [
    "hamming2(\"10010000100010111111111010010101000111011011011100\")"
   ]
  },
  {
   "cell_type": "code",
   "execution_count": 3,
   "id": "equal-vitamin",
   "metadata": {},
   "outputs": [
    {
     "name": "stdout",
     "output_type": "stream",
     "text": [
      "Data blocks:\n",
      "b0: 10010000100\n",
      "b1: 01011111111\n",
      "b2: 10100101010\n",
      "b3: 00111011011\n",
      "b4: 01110000000\n"
     ]
    }
   ],
   "source": [
    "# task 2\n",
    "n = 11\n",
    "blocks = []\n",
    "\n",
    "for i in range(0, len(f), n):\n",
    "    blocks.append(int(f[i: i + n]))\n",
    "zero = '0'\n",
    "blocks[1] = zero + str(blocks[1])\n",
    "blocks[3] = zero*2 + str(blocks[3])\n",
    "blocks[4] = zero + str(blocks[4]) + zero*5\n",
    "\n",
    "print('Data blocks:')\n",
    "for i,j in enumerate(blocks):\n",
    "    print('b' + str(i) + ':',j)\n"
   ]
  },
  {
   "cell_type": "code",
   "execution_count": 5,
   "id": "monetary-saskatchewan",
   "metadata": {},
   "outputs": [
    {
     "name": "stdout",
     "output_type": "stream",
     "text": [
      "Encoded bitstring: 101000110000100\n"
     ]
    }
   ],
   "source": [
    "# task 3\n",
    "def HammingEncode (bitstring):\n",
    "    RedundantBits = 4\n",
    "    NumOfParityBits = 0\n",
    "    NumOfDataBits = 0\n",
    "    i = 0\n",
    "    lis = []\n",
    "\n",
    "    \n",
    "    while i < RedundantBits + len(bitstring):\n",
    "        if i == (2 ** NumOfParityBits - 1):\n",
    "            lis.insert(i, 0)\n",
    "            NumOfParityBits = NumOfParityBits + 1\n",
    "        else:\n",
    "            lis.insert(i, bitstring[NumOfDataBits])\n",
    "            NumOfDataBits = NumOfDataBits + 1\n",
    "        i = i + 1\n",
    "        \n",
    "    s = 0\n",
    "    while s < RedundantBits:\n",
    "        d = 2 ** s\n",
    "        l = 1\n",
    "        sumOfSubList = 0\n",
    "        while l * d - 1 < len(lis):\n",
    "            if l * d - 1 == len(lis) - 1: \n",
    "                NijniyInd = l * d - 1\n",
    "                t = lis[int(NijniyInd):len(lis)]\n",
    "            elif (l + 1) * d - 1 >= len(lis):\n",
    "                NijniyInd = l * d - 1\n",
    "                t = lis[int(NijniyInd):len(lis)] \n",
    "            elif (l + 1) * d - 1 < len(lis) - 1:\n",
    "                NijniyInd = (l * d) - 1\n",
    "                VerhniyInd = (l + 1) * d - 1\n",
    "                t = lis[int(NijniyInd):int(VerhniyInd)]\n",
    "\n",
    "            sumOfSubList += sum(int(x) for x in t) \n",
    "\n",
    "            l = l + 2 \n",
    "        if sumOfSubList % 2 > 0:\n",
    "            lis[int(d) - 1] = 1 \n",
    "        s = s + 1\n",
    "        \n",
    "    result = ''.join(map(str, lis))\n",
    "    return result\n",
    "    \n",
    "    \n",
    "    \n",
    "    \n",
    "first = HammingEncode (str(blocks[0]))\n",
    "print('Encoded bitstring:',first)"
   ]
  },
  {
   "cell_type": "code",
   "execution_count": 6,
   "id": "09ef5c84",
   "metadata": {},
   "outputs": [
    {
     "name": "stdout",
     "output_type": "stream",
     "text": [
      "['101000110000100', '010010111111111', '101101010101010', '010101111011011', '000111100000000']\n"
     ]
    }
   ],
   "source": [
    "# task 4\n",
    "encoded = []\n",
    "for i in blocks:\n",
    "    encoded.append(HammingEncode (str(i)))\n",
    "print(encoded)"
   ]
  },
  {
   "cell_type": "code",
   "execution_count": 8,
   "id": "4d5f5266",
   "metadata": {},
   "outputs": [
    {
     "name": "stdout",
     "output_type": "stream",
     "text": [
      "Encoded sequence: 101000110000100010010111111111101101010101010010101111011011000111100000000\n"
     ]
    }
   ],
   "source": [
    "# task 5\n",
    "combineAll = ''.join(map(str, encoded))\n",
    "print('Encoded sequence:', combineAll)\n",
    "\n",
    "f2 = open(\"one_sequence1511.txt\", \"w\") \n",
    "f2.write(combineAll) \n",
    "f2.close()"
   ]
  }
 ],
 "metadata": {
  "kernelspec": {
   "display_name": "Python 3",
   "language": "python",
   "name": "python3"
  },
  "language_info": {
   "codemirror_mode": {
    "name": "ipython",
    "version": 3
   },
   "file_extension": ".py",
   "mimetype": "text/x-python",
   "name": "python",
   "nbconvert_exporter": "python",
   "pygments_lexer": "ipython3",
   "version": "3.7.9"
  }
 },
 "nbformat": 4,
 "nbformat_minor": 5
}
